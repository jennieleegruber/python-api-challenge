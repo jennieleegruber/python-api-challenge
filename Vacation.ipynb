{
 "cells": [
  {
   "cell_type": "code",
   "execution_count": 5,
   "metadata": {},
   "outputs": [],
   "source": [
    "# Dependencies and Setup\n",
    "import matplotlib.pyplot as plt\n",
    "import pandas as pd\n",
    "import numpy as np\n",
    "import requests\n",
    "import json\n",
    "import gmaps\n",
    "import os\n",
    "\n",
    "\n",
    "# Import API key\n",
    "#from api_keys import g_key\n"
   ]
  },
  {
   "cell_type": "code",
   "execution_count": 6,
   "metadata": {},
   "outputs": [
    {
     "output_type": "execute_result",
     "data": {
      "text/plain": "      City  Latitude  Longitude  Max Temp (K)  Humidity   Sky Description  \\\n0   Albany     42.60     -73.97        285.93        64  scattered clouds   \n1  Te Anau    -45.42     167.72        283.58        77   overcast clouds   \n2   Hobart    -42.88     147.33        293.15        34  scattered clouds   \n\n   Cloudiness %  Wind speed Country        Date  Max Temp (F)  \n0            39        1.57      US  1601605573         55.27  \n1           100        4.40      NZ  1601605573         51.04  \n2            40        9.80      AU  1601605574         68.27  ",
      "text/html": "<div>\n<style scoped>\n    .dataframe tbody tr th:only-of-type {\n        vertical-align: middle;\n    }\n\n    .dataframe tbody tr th {\n        vertical-align: top;\n    }\n\n    .dataframe thead th {\n        text-align: right;\n    }\n</style>\n<table border=\"1\" class=\"dataframe\">\n  <thead>\n    <tr style=\"text-align: right;\">\n      <th></th>\n      <th>City</th>\n      <th>Latitude</th>\n      <th>Longitude</th>\n      <th>Max Temp (K)</th>\n      <th>Humidity</th>\n      <th>Sky Description</th>\n      <th>Cloudiness %</th>\n      <th>Wind speed</th>\n      <th>Country</th>\n      <th>Date</th>\n      <th>Max Temp (F)</th>\n    </tr>\n  </thead>\n  <tbody>\n    <tr>\n      <th>0</th>\n      <td>Albany</td>\n      <td>42.60</td>\n      <td>-73.97</td>\n      <td>285.93</td>\n      <td>64</td>\n      <td>scattered clouds</td>\n      <td>39</td>\n      <td>1.57</td>\n      <td>US</td>\n      <td>1601605573</td>\n      <td>55.27</td>\n    </tr>\n    <tr>\n      <th>1</th>\n      <td>Te Anau</td>\n      <td>-45.42</td>\n      <td>167.72</td>\n      <td>283.58</td>\n      <td>77</td>\n      <td>overcast clouds</td>\n      <td>100</td>\n      <td>4.40</td>\n      <td>NZ</td>\n      <td>1601605573</td>\n      <td>51.04</td>\n    </tr>\n    <tr>\n      <th>2</th>\n      <td>Hobart</td>\n      <td>-42.88</td>\n      <td>147.33</td>\n      <td>293.15</td>\n      <td>34</td>\n      <td>scattered clouds</td>\n      <td>40</td>\n      <td>9.80</td>\n      <td>AU</td>\n      <td>1601605574</td>\n      <td>68.27</td>\n    </tr>\n  </tbody>\n</table>\n</div>"
     },
     "metadata": {},
     "execution_count": 6
    }
   ],
   "source": [
    "path = \"output_data/cities.csv\"\n",
    "cities_df = pd.read_csv(path)\n",
    "cities_df.head(3)"
   ]
  },
  {
   "cell_type": "code",
   "execution_count": 7,
   "metadata": {},
   "outputs": [
    {
     "output_type": "execute_result",
     "data": {
      "text/plain": "   Latitude  Longitude\n0     42.60     -73.97\n1    -45.42     167.72\n2    -42.88     147.33",
      "text/html": "<div>\n<style scoped>\n    .dataframe tbody tr th:only-of-type {\n        vertical-align: middle;\n    }\n\n    .dataframe tbody tr th {\n        vertical-align: top;\n    }\n\n    .dataframe thead th {\n        text-align: right;\n    }\n</style>\n<table border=\"1\" class=\"dataframe\">\n  <thead>\n    <tr style=\"text-align: right;\">\n      <th></th>\n      <th>Latitude</th>\n      <th>Longitude</th>\n    </tr>\n  </thead>\n  <tbody>\n    <tr>\n      <th>0</th>\n      <td>42.60</td>\n      <td>-73.97</td>\n    </tr>\n    <tr>\n      <th>1</th>\n      <td>-45.42</td>\n      <td>167.72</td>\n    </tr>\n    <tr>\n      <th>2</th>\n      <td>-42.88</td>\n      <td>147.33</td>\n    </tr>\n  </tbody>\n</table>\n</div>"
     },
     "metadata": {},
     "execution_count": 7
    }
   ],
   "source": [
    "cities_df_new = cities_df[['Latitude','Longitude']]\n",
    "cities_df_new.head(3)"
   ]
  },
  {
   "cell_type": "code",
   "execution_count": 123,
   "metadata": {},
   "outputs": [
    {
     "output_type": "display_data",
     "data": {
      "text/plain": "Figure(layout=FigureLayout(height=&#39;420px&#39;))",
      "application/vnd.jupyter.widget-view+json": {
       "version_major": 2,
       "version_minor": 0,
       "model_id": "a19eda51fb2e4ec68e3cb60475659615"
      }
     },
     "metadata": {}
    }
   ],
   "source": [
    "locations = cities_df_new\n",
    "humidity = cities_df['Humidity']\n",
    "new_york_coordinates = (40.75, -74.00)\n",
    "fig = gmaps.figure(center=new_york_coordinates, zoom_level=1.37)\n",
    "fig.add_layer(gmaps.heatmap_layer(locations,weights=humidity))\n",
    "fig\n",
    "\n",
    "# var heatmap = new google.maps.visualization.HeatmapLayer({\n",
    "#   data: heatmapData\n",
    "# });\n",
    "# heatmap.setMap(map);"
   ]
  },
  {
   "cell_type": "code",
   "execution_count": 17,
   "metadata": {
    "tags": []
   },
   "outputs": [
    {
     "name": "stdout",
     "output_type": "stream",
     "text": [
      "Enabling notebook extension jupyter-gmaps/extension...\n",
      "      - Validating: \u001b[32mOK\u001b[0m\n"
     ]
    }
   ],
   "source": [
    "!jupyter nbextension enable --py gmaps"
   ]
  },
  {
   "cell_type": "code",
   "execution_count": 9,
   "metadata": {},
   "outputs": [
    {
     "output_type": "execute_result",
     "data": {
      "text/plain": "      City  Latitude  Longitude  Max Temp (K)  Humidity   Sky Description  \\\n0   Albany     42.60     -73.97        285.93        64  scattered clouds   \n1  Te Anau    -45.42     167.72        283.58        77   overcast clouds   \n2   Hobart    -42.88     147.33        293.15        34  scattered clouds   \n\n   Cloudiness %  Wind speed Country        Date  Max Temp (F)  \n0            39        1.57      US  1601605573         55.27  \n1           100        4.40      NZ  1601605573         51.04  \n2            40        9.80      AU  1601605574         68.27  ",
      "text/html": "<div>\n<style scoped>\n    .dataframe tbody tr th:only-of-type {\n        vertical-align: middle;\n    }\n\n    .dataframe tbody tr th {\n        vertical-align: top;\n    }\n\n    .dataframe thead th {\n        text-align: right;\n    }\n</style>\n<table border=\"1\" class=\"dataframe\">\n  <thead>\n    <tr style=\"text-align: right;\">\n      <th></th>\n      <th>City</th>\n      <th>Latitude</th>\n      <th>Longitude</th>\n      <th>Max Temp (K)</th>\n      <th>Humidity</th>\n      <th>Sky Description</th>\n      <th>Cloudiness %</th>\n      <th>Wind speed</th>\n      <th>Country</th>\n      <th>Date</th>\n      <th>Max Temp (F)</th>\n    </tr>\n  </thead>\n  <tbody>\n    <tr>\n      <th>0</th>\n      <td>Albany</td>\n      <td>42.60</td>\n      <td>-73.97</td>\n      <td>285.93</td>\n      <td>64</td>\n      <td>scattered clouds</td>\n      <td>39</td>\n      <td>1.57</td>\n      <td>US</td>\n      <td>1601605573</td>\n      <td>55.27</td>\n    </tr>\n    <tr>\n      <th>1</th>\n      <td>Te Anau</td>\n      <td>-45.42</td>\n      <td>167.72</td>\n      <td>283.58</td>\n      <td>77</td>\n      <td>overcast clouds</td>\n      <td>100</td>\n      <td>4.40</td>\n      <td>NZ</td>\n      <td>1601605573</td>\n      <td>51.04</td>\n    </tr>\n    <tr>\n      <th>2</th>\n      <td>Hobart</td>\n      <td>-42.88</td>\n      <td>147.33</td>\n      <td>293.15</td>\n      <td>34</td>\n      <td>scattered clouds</td>\n      <td>40</td>\n      <td>9.80</td>\n      <td>AU</td>\n      <td>1601605574</td>\n      <td>68.27</td>\n    </tr>\n  </tbody>\n</table>\n</div>"
     },
     "metadata": {},
     "execution_count": 9
    }
   ],
   "source": [
    "cities_df.head(3)"
   ]
  },
  {
   "cell_type": "code",
   "execution_count": 51,
   "metadata": {},
   "outputs": [
    {
     "output_type": "execute_result",
     "data": {
      "text/plain": "Index([&#39;City&#39;, &#39;Latitude&#39;, &#39;Longitude&#39;, &#39;Max Temp (K)&#39;, &#39;Humidity&#39;,\n       &#39;Sky Description&#39;, &#39;Cloudiness %&#39;, &#39;Wind speed&#39;, &#39;Country&#39;, &#39;Date&#39;,\n       &#39;Max Temp (F)&#39;],\n      dtype=&#39;object&#39;)"
     },
     "metadata": {},
     "execution_count": 51
    }
   ],
   "source": [
    "cities_df.columns"
   ]
  },
  {
   "cell_type": "code",
   "execution_count": 10,
   "metadata": {},
   "outputs": [
    {
     "output_type": "execute_result",
     "data": {
      "text/plain": "       City  Latitude  Longitude  Max Temp (K)  Humidity Sky Description  \\\n24   Avarua    -21.21    -159.78        299.15        83       clear sky   \n53  Kulachi     31.93      70.46        299.52        14       clear sky   \n54  Rikitea    -23.12    -134.97        296.11        80       clear sky   \n\n    Cloudiness %  Wind speed Country        Date  Max Temp (F)  \n24             0        7.20      CK  1601605581         79.07  \n53             0        4.93      PK  1601605591         79.74  \n54             0        8.30      PF  1601605591         73.60  ",
      "text/html": "<div>\n<style scoped>\n    .dataframe tbody tr th:only-of-type {\n        vertical-align: middle;\n    }\n\n    .dataframe tbody tr th {\n        vertical-align: top;\n    }\n\n    .dataframe thead th {\n        text-align: right;\n    }\n</style>\n<table border=\"1\" class=\"dataframe\">\n  <thead>\n    <tr style=\"text-align: right;\">\n      <th></th>\n      <th>City</th>\n      <th>Latitude</th>\n      <th>Longitude</th>\n      <th>Max Temp (K)</th>\n      <th>Humidity</th>\n      <th>Sky Description</th>\n      <th>Cloudiness %</th>\n      <th>Wind speed</th>\n      <th>Country</th>\n      <th>Date</th>\n      <th>Max Temp (F)</th>\n    </tr>\n  </thead>\n  <tbody>\n    <tr>\n      <th>24</th>\n      <td>Avarua</td>\n      <td>-21.21</td>\n      <td>-159.78</td>\n      <td>299.15</td>\n      <td>83</td>\n      <td>clear sky</td>\n      <td>0</td>\n      <td>7.20</td>\n      <td>CK</td>\n      <td>1601605581</td>\n      <td>79.07</td>\n    </tr>\n    <tr>\n      <th>53</th>\n      <td>Kulachi</td>\n      <td>31.93</td>\n      <td>70.46</td>\n      <td>299.52</td>\n      <td>14</td>\n      <td>clear sky</td>\n      <td>0</td>\n      <td>4.93</td>\n      <td>PK</td>\n      <td>1601605591</td>\n      <td>79.74</td>\n    </tr>\n    <tr>\n      <th>54</th>\n      <td>Rikitea</td>\n      <td>-23.12</td>\n      <td>-134.97</td>\n      <td>296.11</td>\n      <td>80</td>\n      <td>clear sky</td>\n      <td>0</td>\n      <td>8.30</td>\n      <td>PF</td>\n      <td>1601605591</td>\n      <td>73.60</td>\n    </tr>\n  </tbody>\n</table>\n</div>"
     },
     "metadata": {},
     "execution_count": 10
    }
   ],
   "source": [
    "hotel_df = cities_df.loc[(cities_df[\"Max Temp (F)\"] < 80) & (cities_df[\"Max Temp (F)\"] > 70) \\\n",
    "    & (cities_df[\"Wind speed\"]<10) & (cities_df[\"Cloudiness %\"] == 0)].dropna()\n",
    "hotel_df.head(3)\n"
   ]
  },
  {
   "cell_type": "code",
   "execution_count": 12,
   "metadata": {},
   "outputs": [],
   "source": [
    "latlng_1 = list(zip(hotel_df['Latitude'], hotel_df['Longitude']))\n",
    "latlng_1  = [\", \".join(map(str, x)) for x in latlng_1]"
   ]
  },
  {
   "cell_type": "code",
   "execution_count": 13,
   "metadata": {},
   "outputs": [
    {
     "output_type": "execute_result",
     "data": {
      "text/plain": "             latlng     City Country Hotel Name\n24  -21.21, -159.78   Avarua      CK           \n53     31.93, 70.46  Kulachi      PK           \n54  -23.12, -134.97  Rikitea      PF           ",
      "text/html": "<div>\n<style scoped>\n    .dataframe tbody tr th:only-of-type {\n        vertical-align: middle;\n    }\n\n    .dataframe tbody tr th {\n        vertical-align: top;\n    }\n\n    .dataframe thead th {\n        text-align: right;\n    }\n</style>\n<table border=\"1\" class=\"dataframe\">\n  <thead>\n    <tr style=\"text-align: right;\">\n      <th></th>\n      <th>latlng</th>\n      <th>City</th>\n      <th>Country</th>\n      <th>Hotel Name</th>\n    </tr>\n  </thead>\n  <tbody>\n    <tr>\n      <th>24</th>\n      <td>-21.21, -159.78</td>\n      <td>Avarua</td>\n      <td>CK</td>\n      <td></td>\n    </tr>\n    <tr>\n      <th>53</th>\n      <td>31.93, 70.46</td>\n      <td>Kulachi</td>\n      <td>PK</td>\n      <td></td>\n    </tr>\n    <tr>\n      <th>54</th>\n      <td>-23.12, -134.97</td>\n      <td>Rikitea</td>\n      <td>PF</td>\n      <td></td>\n    </tr>\n  </tbody>\n</table>\n</div>"
     },
     "metadata": {},
     "execution_count": 13
    }
   ],
   "source": [
    "hotel_df['latlng'] = latlng_1\n",
    "hotel_df_2 = hotel_df[['latlng', 'City','Country']]\n",
    "hotel_df_2['Hotel Name'] = \"\"\n",
    "hotel_df_2.reset_index()\n",
    "hotel_df_2.head(3)"
   ]
  },
  {
   "cell_type": "code",
   "execution_count": 14,
   "metadata": {},
   "outputs": [],
   "source": [
    "target_coords = []\n",
    "latlngs = hotel_df_2['latlng']\n",
    "for i in latlngs: \n",
    "    target_coords.append(f\"{i}\")"
   ]
  },
  {
   "cell_type": "code",
   "execution_count": 15,
   "metadata": {
    "tags": []
   },
   "outputs": [],
   "source": [
    "hotels = []\n",
    "locations = []\n",
    "lats = []\n",
    "lngs = []\n",
    "\n",
    "\n",
    "#what if I created a new colum of lat, long touples so I could iterate through the dataframe rather than a list? Would that make it easier \n",
    "params = {\n",
    "    \"radius\": 5000,\n",
    "    \"type\": 'lodging',\n",
    "    \"key\": gkey\n",
    "}\n",
    "\n",
    "base_url = \"https://maps.googleapis.com/maps/api/place/nearbysearch/json\"\n",
    "    # run a request using our params dictionary\n",
    "\n",
    "for i in target_coords:\n",
    "\n",
    "    response = requests.get(base_url, params=params).json()\n",
    "    params[\"location\"] = i\n",
    "    # base url\n",
    "    results = response['results']\n",
    "    try: \n",
    "        # print(f\"{results [0]['name']}\")\n",
    "        hotel = results [0]['name']\n",
    "        hotels.append(hotel)\n",
    "        # print(f\"{results[0]['plus_code']['compound_code']}\")\n",
    "        location = results[0]['plus_code']['compound_code']\n",
    "        locations.append(location)\n",
    "        # print(f\"{results[0]['geometry']['location']['lat']}\")\n",
    "        lat = results[0]['geometry']['location']['lat']\n",
    "        lats.append(lat)\n",
    "        # print(f\"{results[0]['geometry']['location']['lng']}\")\n",
    "        lng = results[0]['geometry']['location']['lng']\n",
    "        lngs.append(lng)\n",
    "    except (KeyError, IndexError):\n",
    "        pass\n"
   ]
  },
  {
   "cell_type": "code",
   "execution_count": null,
   "metadata": {},
   "outputs": [],
   "source": [
    "#you're so close. try to do the same thing but in a dataframe. \n",
    "#create an empty dataframe to store api data. Start by creating empy strings\n",
    "\n"
   ]
  },
  {
   "cell_type": "code",
   "execution_count": 16,
   "metadata": {},
   "outputs": [
    {
     "output_type": "execute_result",
     "data": {
      "text/plain": "   index           latlng Hotel Name Location Latitude Longitude\n0     24  -21.21, -159.78                                       \n1     53     31.93, 70.46                                       \n2     54  -23.12, -134.97                                       \n3     66     29.11, 21.29                                       ",
      "text/html": "<div>\n<style scoped>\n    .dataframe tbody tr th:only-of-type {\n        vertical-align: middle;\n    }\n\n    .dataframe tbody tr th {\n        vertical-align: top;\n    }\n\n    .dataframe thead th {\n        text-align: right;\n    }\n</style>\n<table border=\"1\" class=\"dataframe\">\n  <thead>\n    <tr style=\"text-align: right;\">\n      <th></th>\n      <th>index</th>\n      <th>latlng</th>\n      <th>Hotel Name</th>\n      <th>Location</th>\n      <th>Latitude</th>\n      <th>Longitude</th>\n    </tr>\n  </thead>\n  <tbody>\n    <tr>\n      <th>0</th>\n      <td>24</td>\n      <td>-21.21, -159.78</td>\n      <td></td>\n      <td></td>\n      <td></td>\n      <td></td>\n    </tr>\n    <tr>\n      <th>1</th>\n      <td>53</td>\n      <td>31.93, 70.46</td>\n      <td></td>\n      <td></td>\n      <td></td>\n      <td></td>\n    </tr>\n    <tr>\n      <th>2</th>\n      <td>54</td>\n      <td>-23.12, -134.97</td>\n      <td></td>\n      <td></td>\n      <td></td>\n      <td></td>\n    </tr>\n    <tr>\n      <th>3</th>\n      <td>66</td>\n      <td>29.11, 21.29</td>\n      <td></td>\n      <td></td>\n      <td></td>\n      <td></td>\n    </tr>\n  </tbody>\n</table>\n</div>"
     },
     "metadata": {},
     "execution_count": 16
    }
   ],
   "source": [
    "new_df = hotel_df_2[['latlng']]\n",
    "new_df\n",
    "new_df['Hotel Name'] = \"\"\n",
    "new_df['Location'] = \"\"\n",
    "new_df['Latitude'] = \"\"\n",
    "new_df['Longitude'] = \"\"\n",
    "new_df.head(3)\n",
    "new_df = new_df.reset_index()\n",
    "new_df.head(4)"
   ]
  },
  {
   "cell_type": "code",
   "execution_count": 24,
   "metadata": {
    "tags": []
   },
   "outputs": [
    {
     "output_type": "stream",
     "name": "stdout",
     "text": "Retrieving Results for Index 0: -21.21, -159.78.\nParadise Inn\nRetrieving Results for Index 1: 31.93, 70.46.\nSHAH JAHAN MAHSUD\nRetrieving Results for Index 2: -23.12, -134.97.\nRetrieving Results for Index 3: 29.11, 21.29.\nRetrieving Results for Index 4: 12.99, 7.6.\nKatsina Motel\nRetrieving Results for Index 5: 31.72, -116.57.\nCasa De Thompson\nRetrieving Results for Index 6: -12.36, -44.97.\nPousada do Luizão\nRetrieving Results for Index 7: -19.67, 22.27.\nRetrieving Results for Index 8: -24.79, -50.01.\nCHACARA BAILLY\nRetrieving Results for Index 9: -38.33, 143.58.\nOtway Gate Motel\nRetrieving Results for Index 10: -37.83, 140.77.\nCommodore on the Park\nRetrieving Results for Index 11: 29.97, 40.21.\nFakhamat Al Orjoana Apartment\nRetrieving Results for Index 12: 14.4, 46.47.\nRetrieving Results for Index 13: -16.84, 36.99.\nPhama Lodge\nRetrieving Results for Index 14: -38.27, 141.97.\nCodrington Gardens Bed And Breakfast\nRetrieving Results for Index 15: -8.93, 125.41.\nJuvinal Martin\nRetrieving Results for Index 16: 37.05, 140.88.\nToyoko Inn Iwaki Ekimae\nRetrieving Results for Index 17: 27.04, 14.43.\nمحطة ام الارانب -سبها مواصلات\nRetrieving Results for Index 18: 24.69, 46.72.\nInterContinental Riyadh\nRetrieving Results for Index 19: -25.52, -48.51.\nCamboa Hotel\nRetrieving Results for Index 20: 31.28, 49.6.\nفروشگاه مطورعلیان\nRetrieving Results for Index 21: 8.41, 48.48.\nCurubo Hotel\nRetrieving Results for Index 22: -15.86, 27.75.\nDarcyn Gardens and Apartments\nRetrieving Results for Index 23: 29.03, 21.55.\nJalu Hotel\nRetrieving Results for Index 24: -43.53, 172.63.\nChateau on the Park - Christchurch, a DoubleTree by Hilton\n"
    }
   ],
   "source": [
    "params = {\n",
    "    \"radius\": 5000,\n",
    "    \"type\": 'lodging',\n",
    "    \"key\": gkey\n",
    "}\n",
    "\n",
    "base_url = \"https://maps.googleapis.com/maps/api/place/nearbysearch/json\"\n",
    "for index, row in new_df.iterrows():\n",
    "    target_coordinates = row['latlng']\n",
    "    params['location'] = f\"{target_coordinates}\"\n",
    "    print(f\"Retrieving Results for Index {index}: {target_coordinates}.\")\n",
    "    response = requests.get(base_url, params=params).json()\n",
    "    results = response['results']\n",
    "    try: \n",
    "        new_df.loc[index, 'Hotel Name']  = results [0]['name']\n",
    "        # print(f\"{results[0]['plus_code']['compound_code']}\")\n",
    "        new_df.loc[index, 'Location'] = results[0]['plus_code']['compound_code']\n",
    "        new_df.loc[index, 'Latitude'] = results[0]['geometry']['location']['lat']\n",
    "        new_df.loc[index, 'Longitude'] = results[0]['geometry']['location']['lng']\n",
    "        print(f\"{results [0]['name']}\")\n",
    "    except (KeyError, IndexError):\n",
    "        pass\n",
    "\n",
    "\n",
    "\n"
   ]
  },
  {
   "cell_type": "code",
   "execution_count": 98,
   "metadata": {},
   "outputs": [
    {
     "output_type": "execute_result",
     "data": {
      "text/plain": "             latlng                                         Hotel Name  \\\n0   -21.21, -159.78                                       Paradise Inn   \n1      31.93, 70.46                                  SHAH JAHAN MAHSUD   \n4        12.99, 7.6                                      Katsina Motel   \n5    31.72, -116.57                                   Casa De Thompson   \n6    -12.36, -44.97                                  Pousada do Luizão   \n8    -24.79, -50.01                                     CHACARA BAILLY   \n9    -38.33, 143.58                                   Otway Gate Motel   \n10   -37.83, 140.77                              Commodore on the Park   \n11     29.97, 40.21                      Fakhamat Al Orjoana Apartment   \n13    -16.84, 36.99                                        Phama Lodge   \n14   -38.27, 141.97               Codrington Gardens Bed And Breakfast   \n15    -8.93, 125.41                                     Juvinal Martin   \n16    37.05, 140.88                            Toyoko Inn Iwaki Ekimae   \n17     27.04, 14.43                      محطة ام الارانب -سبها مواصلات   \n18     24.69, 46.72                            InterContinental Riyadh   \n19   -25.52, -48.51                                       Camboa Hotel   \n20      31.28, 49.6                                  فروشگاه مطورعلیان   \n21      8.41, 48.48                                       Curubo Hotel   \n22    -15.86, 27.75                      Darcyn Gardens and Apartments   \n23     29.03, 21.55                                         Jalu Hotel   \n24   -43.53, 172.63  Chateau on the Park - Christchurch, a DoubleTr...   \n\n                                             Location   Latitude   Longitude  \n0               Q6VJ+V5 Avarua District, Cook Islands -21.205333 -159.769621  \n1                           WFM6+4C Kulachi, Pakistan  31.932828   70.461043  \n4                            XHMX+8X Katsina, Nigeria  12.983333    7.600000  \n5          PC3R+9F Maneadero, Baja California, Mexico  31.703446 -116.558869  \n6       J2VC+9W São Desidério, State of Bahia, Brazil -12.356610  -44.977709  \n8   6297+P7 Jardim das Nacoes, Castro - State of P... -24.780711  -49.986828  \n9                        MH6X+R4 Colac VIC, Australia -38.337924  143.597764  \n10                5QGM+PJ Mount Gambier SA, Australia -37.823155  140.784066  \n11                        W5WV+H6 Sakaka Saudi Arabia  29.946421   40.193125  \n13                         5X7P+W7 Mocuba, Mozambique -16.835211   36.985726  \n14                      P285+4W Yambuk VIC, Australia -38.284673  142.009799  \n15                        399W+QP Atsabe, Timor-Leste  -8.930576  125.396797  \n16                    3V4V+86 Iwaki, Fukushima, Japan  37.055808  140.893095  \n17                               2CQH+64 Sabhā, Libya  27.038047   14.427871  \n18                    MM8R+MV Ad Diriyah Saudi Arabia  24.666677   46.692159  \n19  FFFQ+X6 Centro Histórico, Paranaguá - State of... -25.525006  -48.511931  \n20        7HHX+5J Ramhormoz, Khuzestan Province, Iran  31.277921   49.599010  \n21                            CF4X+X5 Garowe, Somalia   8.407394   48.497878  \n22                           4PQX+FJ Mazabuka, Zambia -15.861252   27.749066  \n23                                2GMW+38 Jalu, Libya  29.032724   21.545805  \n24      FJF6+9G Christchurch, Canterbury, New Zealand -43.526567  172.611371  ",
      "text/html": "<div>\n<style scoped>\n    .dataframe tbody tr th:only-of-type {\n        vertical-align: middle;\n    }\n\n    .dataframe tbody tr th {\n        vertical-align: top;\n    }\n\n    .dataframe thead th {\n        text-align: right;\n    }\n</style>\n<table border=\"1\" class=\"dataframe\">\n  <thead>\n    <tr style=\"text-align: right;\">\n      <th></th>\n      <th>latlng</th>\n      <th>Hotel Name</th>\n      <th>Location</th>\n      <th>Latitude</th>\n      <th>Longitude</th>\n    </tr>\n  </thead>\n  <tbody>\n    <tr>\n      <th>0</th>\n      <td>-21.21, -159.78</td>\n      <td>Paradise Inn</td>\n      <td>Q6VJ+V5 Avarua District, Cook Islands</td>\n      <td>-21.205333</td>\n      <td>-159.769621</td>\n    </tr>\n    <tr>\n      <th>1</th>\n      <td>31.93, 70.46</td>\n      <td>SHAH JAHAN MAHSUD</td>\n      <td>WFM6+4C Kulachi, Pakistan</td>\n      <td>31.932828</td>\n      <td>70.461043</td>\n    </tr>\n    <tr>\n      <th>4</th>\n      <td>12.99, 7.6</td>\n      <td>Katsina Motel</td>\n      <td>XHMX+8X Katsina, Nigeria</td>\n      <td>12.983333</td>\n      <td>7.600000</td>\n    </tr>\n    <tr>\n      <th>5</th>\n      <td>31.72, -116.57</td>\n      <td>Casa De Thompson</td>\n      <td>PC3R+9F Maneadero, Baja California, Mexico</td>\n      <td>31.703446</td>\n      <td>-116.558869</td>\n    </tr>\n    <tr>\n      <th>6</th>\n      <td>-12.36, -44.97</td>\n      <td>Pousada do Luizão</td>\n      <td>J2VC+9W São Desidério, State of Bahia, Brazil</td>\n      <td>-12.356610</td>\n      <td>-44.977709</td>\n    </tr>\n    <tr>\n      <th>8</th>\n      <td>-24.79, -50.01</td>\n      <td>CHACARA BAILLY</td>\n      <td>6297+P7 Jardim das Nacoes, Castro - State of P...</td>\n      <td>-24.780711</td>\n      <td>-49.986828</td>\n    </tr>\n    <tr>\n      <th>9</th>\n      <td>-38.33, 143.58</td>\n      <td>Otway Gate Motel</td>\n      <td>MH6X+R4 Colac VIC, Australia</td>\n      <td>-38.337924</td>\n      <td>143.597764</td>\n    </tr>\n    <tr>\n      <th>10</th>\n      <td>-37.83, 140.77</td>\n      <td>Commodore on the Park</td>\n      <td>5QGM+PJ Mount Gambier SA, Australia</td>\n      <td>-37.823155</td>\n      <td>140.784066</td>\n    </tr>\n    <tr>\n      <th>11</th>\n      <td>29.97, 40.21</td>\n      <td>Fakhamat Al Orjoana Apartment</td>\n      <td>W5WV+H6 Sakaka Saudi Arabia</td>\n      <td>29.946421</td>\n      <td>40.193125</td>\n    </tr>\n    <tr>\n      <th>13</th>\n      <td>-16.84, 36.99</td>\n      <td>Phama Lodge</td>\n      <td>5X7P+W7 Mocuba, Mozambique</td>\n      <td>-16.835211</td>\n      <td>36.985726</td>\n    </tr>\n    <tr>\n      <th>14</th>\n      <td>-38.27, 141.97</td>\n      <td>Codrington Gardens Bed And Breakfast</td>\n      <td>P285+4W Yambuk VIC, Australia</td>\n      <td>-38.284673</td>\n      <td>142.009799</td>\n    </tr>\n    <tr>\n      <th>15</th>\n      <td>-8.93, 125.41</td>\n      <td>Juvinal Martin</td>\n      <td>399W+QP Atsabe, Timor-Leste</td>\n      <td>-8.930576</td>\n      <td>125.396797</td>\n    </tr>\n    <tr>\n      <th>16</th>\n      <td>37.05, 140.88</td>\n      <td>Toyoko Inn Iwaki Ekimae</td>\n      <td>3V4V+86 Iwaki, Fukushima, Japan</td>\n      <td>37.055808</td>\n      <td>140.893095</td>\n    </tr>\n    <tr>\n      <th>17</th>\n      <td>27.04, 14.43</td>\n      <td>محطة ام الارانب -سبها مواصلات</td>\n      <td>2CQH+64 Sabhā, Libya</td>\n      <td>27.038047</td>\n      <td>14.427871</td>\n    </tr>\n    <tr>\n      <th>18</th>\n      <td>24.69, 46.72</td>\n      <td>InterContinental Riyadh</td>\n      <td>MM8R+MV Ad Diriyah Saudi Arabia</td>\n      <td>24.666677</td>\n      <td>46.692159</td>\n    </tr>\n    <tr>\n      <th>19</th>\n      <td>-25.52, -48.51</td>\n      <td>Camboa Hotel</td>\n      <td>FFFQ+X6 Centro Histórico, Paranaguá - State of...</td>\n      <td>-25.525006</td>\n      <td>-48.511931</td>\n    </tr>\n    <tr>\n      <th>20</th>\n      <td>31.28, 49.6</td>\n      <td>فروشگاه مطورعلیان</td>\n      <td>7HHX+5J Ramhormoz, Khuzestan Province, Iran</td>\n      <td>31.277921</td>\n      <td>49.599010</td>\n    </tr>\n    <tr>\n      <th>21</th>\n      <td>8.41, 48.48</td>\n      <td>Curubo Hotel</td>\n      <td>CF4X+X5 Garowe, Somalia</td>\n      <td>8.407394</td>\n      <td>48.497878</td>\n    </tr>\n    <tr>\n      <th>22</th>\n      <td>-15.86, 27.75</td>\n      <td>Darcyn Gardens and Apartments</td>\n      <td>4PQX+FJ Mazabuka, Zambia</td>\n      <td>-15.861252</td>\n      <td>27.749066</td>\n    </tr>\n    <tr>\n      <th>23</th>\n      <td>29.03, 21.55</td>\n      <td>Jalu Hotel</td>\n      <td>2GMW+38 Jalu, Libya</td>\n      <td>29.032724</td>\n      <td>21.545805</td>\n    </tr>\n    <tr>\n      <th>24</th>\n      <td>-43.53, 172.63</td>\n      <td>Chateau on the Park - Christchurch, a DoubleTr...</td>\n      <td>FJF6+9G Christchurch, Canterbury, New Zealand</td>\n      <td>-43.526567</td>\n      <td>172.611371</td>\n    </tr>\n  </tbody>\n</table>\n</div>"
     },
     "metadata": {},
     "execution_count": 98
    }
   ],
   "source": [
    "markers_df = new_df.drop(columns=['index'])\n",
    "nan_value = float(\"NaN\")\n",
    "markers_df_2 = markers_df.replace(\"\", nan_value, inplace=True)\n",
    "c_markers_df = markers_df.dropna()\n",
    "c_markers_df\n"
   ]
  },
  {
   "cell_type": "code",
   "execution_count": 91,
   "metadata": {},
   "outputs": [],
   "source": []
  },
  {
   "cell_type": "code",
   "execution_count": 101,
   "metadata": {
    "tags": []
   },
   "outputs": [
    {
     "output_type": "execute_result",
     "data": {
      "text/plain": "[(-21.205333, -159.769621),\n (31.9328279, 70.4610427),\n (12.983333, 7.600000000000001),\n (31.70344589999999, -116.5588689),\n (-12.3566101, -44.9777094),\n (-24.7807113, -49.98682830000001),\n (-38.3379236, 143.5977641),\n (-37.823155, 140.784066),\n (29.9464214, 40.1931247),\n (-16.8352109, 36.98572579999999),\n (-38.2846732, 142.0097987),\n (-8.930576, 125.396797),\n (37.05580769999999, 140.8930947),\n (27.0380467, 14.4278714),\n (24.666677, 46.692159),\n (-25.5250061, -48.51193139999999),\n (31.2779214, 49.5990096),\n (8.407393699999998, 48.4978782),\n (-15.861252, 27.7490656),\n (29.03272369999999, 21.5458054),\n (-43.5265668, 172.6113713)]"
     },
     "metadata": {},
     "execution_count": 101
    }
   ],
   "source": [
    "c_markers_df['tuples'] = list(zip(c_markers_df.Latitude, c_markers_df.Longitude))\n",
    "c_marker_locations = []\n",
    "for x in c_markers_df['tuples']: \n",
    "   c_marker_locations.append(x)\n",
    "c_marker_locations"
   ]
  },
  {
   "cell_type": "code",
   "execution_count": 121,
   "metadata": {
    "tags": []
   },
   "outputs": [
    {
     "output_type": "display_data",
     "data": {
      "text/plain": "Figure(layout=FigureLayout(height=&#39;420px&#39;))",
      "application/vnd.jupyter.widget-view+json": {
       "version_major": 2,
       "version_minor": 0,
       "model_id": "846413e2943b44529f958c335ed8b3ab"
      }
     },
     "metadata": {}
    }
   ],
   "source": [
    "marker_locations = [(-21.205333, -159.769621),\n",
    " (31.9328279, 70.4610427),\n",
    " (12.983333, 7.600000000000001),\n",
    " (31.70344589999999, -116.5588689),\n",
    " (-12.3566101, -44.9777094),\n",
    " (-24.7807113, -49.98682830000001),\n",
    " (-38.3379236, 143.5977641),\n",
    " (-37.823155, 140.784066),\n",
    " (29.9464214, 40.1931247),\n",
    " (-16.8352109, 36.98572579999999),\n",
    " (-38.2846732, 142.0097987),\n",
    " (-8.930576, 125.396797),\n",
    " (37.05580769999999, 140.8930947),\n",
    " (27.0380467, 14.4278714),\n",
    " (24.666677, 46.692159),\n",
    " (-25.5250061, -48.51193139999999),\n",
    " (31.2779214, 49.5990096),\n",
    " (8.407393699999998, 48.4978782),\n",
    " (-15.861252, 27.7490656),\n",
    " (29.03272369999999, 21.5458054),\n",
    " (-43.5265668, 172.6113713)] \n",
    "\n",
    "location = c_markers_df[\"Hotel Name\"].tolist() \n",
    "hotel = c_markers_df[\"Location\"].tolist() \n",
    "info_box_template = \"\"\n",
    "fig = gmaps.figure()\n",
    "for index, row in c_markers_df.iterrows():\n",
    "    markers = gmaps.marker_layer(marker_locations,\n",
    "    info_box_content=[f\"Hotel: {row[1]} Location: {row[2]}\" for index, row in c_markers_df.iterrows()]) \n",
    "    fig.add_layer(markers)\n",
    "fig\n",
    "\n",
    "\n"
   ]
  }
 ],
 "metadata": {
  "kernelspec": {
   "display_name": "Python 3",
   "language": "python",
   "name": "python3"
  },
  "language_info": {
   "codemirror_mode": {
    "name": "ipython",
    "version": 3
   },
   "file_extension": ".py",
   "mimetype": "text/x-python",
   "name": "python",
   "nbconvert_exporter": "python",
   "pygments_lexer": "ipython3",
   "version": "3.8.3-final"
  }
 },
 "nbformat": 4,
 "nbformat_minor": 4
}